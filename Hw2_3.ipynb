{
  "nbformat": 4,
  "nbformat_minor": 0,
  "metadata": {
    "colab": {
      "provenance": []
    },
    "kernelspec": {
      "name": "python3",
      "display_name": "Python 3"
    },
    "language_info": {
      "name": "python"
    }
  },
  "cells": [
    {
      "cell_type": "code",
      "execution_count": null,
      "metadata": {
        "colab": {
          "base_uri": "https://localhost:8080/",
          "height": 262
        },
        "id": "9oM9eFU-Yuw5",
        "outputId": "ed31130e-9198-43ef-9326-5952d68b3aad"
      },
      "outputs": [
        {
          "output_type": "display_data",
          "data": {
            "text/plain": [
              "<IPython.core.display.HTML object>"
            ],
            "text/html": [
              "\n",
              "     <input type=\"file\" id=\"files-62130b72-6f7a-4cf7-8577-2f55d5fe21fb\" name=\"files[]\" multiple disabled\n",
              "        style=\"border:none\" />\n",
              "     <output id=\"result-62130b72-6f7a-4cf7-8577-2f55d5fe21fb\">\n",
              "      Upload widget is only available when the cell has been executed in the\n",
              "      current browser session. Please rerun this cell to enable.\n",
              "      </output>\n",
              "      <script>// Copyright 2017 Google LLC\n",
              "//\n",
              "// Licensed under the Apache License, Version 2.0 (the \"License\");\n",
              "// you may not use this file except in compliance with the License.\n",
              "// You may obtain a copy of the License at\n",
              "//\n",
              "//      http://www.apache.org/licenses/LICENSE-2.0\n",
              "//\n",
              "// Unless required by applicable law or agreed to in writing, software\n",
              "// distributed under the License is distributed on an \"AS IS\" BASIS,\n",
              "// WITHOUT WARRANTIES OR CONDITIONS OF ANY KIND, either express or implied.\n",
              "// See the License for the specific language governing permissions and\n",
              "// limitations under the License.\n",
              "\n",
              "/**\n",
              " * @fileoverview Helpers for google.colab Python module.\n",
              " */\n",
              "(function(scope) {\n",
              "function span(text, styleAttributes = {}) {\n",
              "  const element = document.createElement('span');\n",
              "  element.textContent = text;\n",
              "  for (const key of Object.keys(styleAttributes)) {\n",
              "    element.style[key] = styleAttributes[key];\n",
              "  }\n",
              "  return element;\n",
              "}\n",
              "\n",
              "// Max number of bytes which will be uploaded at a time.\n",
              "const MAX_PAYLOAD_SIZE = 100 * 1024;\n",
              "\n",
              "function _uploadFiles(inputId, outputId) {\n",
              "  const steps = uploadFilesStep(inputId, outputId);\n",
              "  const outputElement = document.getElementById(outputId);\n",
              "  // Cache steps on the outputElement to make it available for the next call\n",
              "  // to uploadFilesContinue from Python.\n",
              "  outputElement.steps = steps;\n",
              "\n",
              "  return _uploadFilesContinue(outputId);\n",
              "}\n",
              "\n",
              "// This is roughly an async generator (not supported in the browser yet),\n",
              "// where there are multiple asynchronous steps and the Python side is going\n",
              "// to poll for completion of each step.\n",
              "// This uses a Promise to block the python side on completion of each step,\n",
              "// then passes the result of the previous step as the input to the next step.\n",
              "function _uploadFilesContinue(outputId) {\n",
              "  const outputElement = document.getElementById(outputId);\n",
              "  const steps = outputElement.steps;\n",
              "\n",
              "  const next = steps.next(outputElement.lastPromiseValue);\n",
              "  return Promise.resolve(next.value.promise).then((value) => {\n",
              "    // Cache the last promise value to make it available to the next\n",
              "    // step of the generator.\n",
              "    outputElement.lastPromiseValue = value;\n",
              "    return next.value.response;\n",
              "  });\n",
              "}\n",
              "\n",
              "/**\n",
              " * Generator function which is called between each async step of the upload\n",
              " * process.\n",
              " * @param {string} inputId Element ID of the input file picker element.\n",
              " * @param {string} outputId Element ID of the output display.\n",
              " * @return {!Iterable<!Object>} Iterable of next steps.\n",
              " */\n",
              "function* uploadFilesStep(inputId, outputId) {\n",
              "  const inputElement = document.getElementById(inputId);\n",
              "  inputElement.disabled = false;\n",
              "\n",
              "  const outputElement = document.getElementById(outputId);\n",
              "  outputElement.innerHTML = '';\n",
              "\n",
              "  const pickedPromise = new Promise((resolve) => {\n",
              "    inputElement.addEventListener('change', (e) => {\n",
              "      resolve(e.target.files);\n",
              "    });\n",
              "  });\n",
              "\n",
              "  const cancel = document.createElement('button');\n",
              "  inputElement.parentElement.appendChild(cancel);\n",
              "  cancel.textContent = 'Cancel upload';\n",
              "  const cancelPromise = new Promise((resolve) => {\n",
              "    cancel.onclick = () => {\n",
              "      resolve(null);\n",
              "    };\n",
              "  });\n",
              "\n",
              "  // Wait for the user to pick the files.\n",
              "  const files = yield {\n",
              "    promise: Promise.race([pickedPromise, cancelPromise]),\n",
              "    response: {\n",
              "      action: 'starting',\n",
              "    }\n",
              "  };\n",
              "\n",
              "  cancel.remove();\n",
              "\n",
              "  // Disable the input element since further picks are not allowed.\n",
              "  inputElement.disabled = true;\n",
              "\n",
              "  if (!files) {\n",
              "    return {\n",
              "      response: {\n",
              "        action: 'complete',\n",
              "      }\n",
              "    };\n",
              "  }\n",
              "\n",
              "  for (const file of files) {\n",
              "    const li = document.createElement('li');\n",
              "    li.append(span(file.name, {fontWeight: 'bold'}));\n",
              "    li.append(span(\n",
              "        `(${file.type || 'n/a'}) - ${file.size} bytes, ` +\n",
              "        `last modified: ${\n",
              "            file.lastModifiedDate ? file.lastModifiedDate.toLocaleDateString() :\n",
              "                                    'n/a'} - `));\n",
              "    const percent = span('0% done');\n",
              "    li.appendChild(percent);\n",
              "\n",
              "    outputElement.appendChild(li);\n",
              "\n",
              "    const fileDataPromise = new Promise((resolve) => {\n",
              "      const reader = new FileReader();\n",
              "      reader.onload = (e) => {\n",
              "        resolve(e.target.result);\n",
              "      };\n",
              "      reader.readAsArrayBuffer(file);\n",
              "    });\n",
              "    // Wait for the data to be ready.\n",
              "    let fileData = yield {\n",
              "      promise: fileDataPromise,\n",
              "      response: {\n",
              "        action: 'continue',\n",
              "      }\n",
              "    };\n",
              "\n",
              "    // Use a chunked sending to avoid message size limits. See b/62115660.\n",
              "    let position = 0;\n",
              "    do {\n",
              "      const length = Math.min(fileData.byteLength - position, MAX_PAYLOAD_SIZE);\n",
              "      const chunk = new Uint8Array(fileData, position, length);\n",
              "      position += length;\n",
              "\n",
              "      const base64 = btoa(String.fromCharCode.apply(null, chunk));\n",
              "      yield {\n",
              "        response: {\n",
              "          action: 'append',\n",
              "          file: file.name,\n",
              "          data: base64,\n",
              "        },\n",
              "      };\n",
              "\n",
              "      let percentDone = fileData.byteLength === 0 ?\n",
              "          100 :\n",
              "          Math.round((position / fileData.byteLength) * 100);\n",
              "      percent.textContent = `${percentDone}% done`;\n",
              "\n",
              "    } while (position < fileData.byteLength);\n",
              "  }\n",
              "\n",
              "  // All done.\n",
              "  yield {\n",
              "    response: {\n",
              "      action: 'complete',\n",
              "    }\n",
              "  };\n",
              "}\n",
              "\n",
              "scope.google = scope.google || {};\n",
              "scope.google.colab = scope.google.colab || {};\n",
              "scope.google.colab._files = {\n",
              "  _uploadFiles,\n",
              "  _uploadFilesContinue,\n",
              "};\n",
              "})(self);\n",
              "</script> "
            ]
          },
          "metadata": {}
        },
        {
          "output_type": "stream",
          "name": "stdout",
          "text": [
            "Saving bestsellers with categories.csv to bestsellers with categories (2).csv\n"
          ]
        },
        {
          "output_type": "execute_result",
          "data": {
            "text/plain": [
              "                                                Name  \\\n",
              "0                      10-Day Green Smoothie Cleanse   \n",
              "1                                  11/22/63: A Novel   \n",
              "2            12 Rules for Life: An Antidote to Chaos   \n",
              "3                             1984 (Signet Classics)   \n",
              "4  5,000 Awesome Facts (About Everything!) (Natio...   \n",
              "\n",
              "                     Author  User Rating  Reviews  Price  Year        Genre  \n",
              "0                  JJ Smith          4.7    17350      8  2016  Non Fiction  \n",
              "1              Stephen King          4.6     2052     22  2011      Fiction  \n",
              "2        Jordan B. Peterson          4.7    18979     15  2018  Non Fiction  \n",
              "3             George Orwell          4.7    21424      6  2017      Fiction  \n",
              "4  National Geographic Kids          4.8     7665     12  2019  Non Fiction  "
            ],
            "text/html": [
              "\n",
              "  <div id=\"df-89753cee-edde-4d43-9fbc-fdbf4db13135\" class=\"colab-df-container\">\n",
              "    <div>\n",
              "<style scoped>\n",
              "    .dataframe tbody tr th:only-of-type {\n",
              "        vertical-align: middle;\n",
              "    }\n",
              "\n",
              "    .dataframe tbody tr th {\n",
              "        vertical-align: top;\n",
              "    }\n",
              "\n",
              "    .dataframe thead th {\n",
              "        text-align: right;\n",
              "    }\n",
              "</style>\n",
              "<table border=\"1\" class=\"dataframe\">\n",
              "  <thead>\n",
              "    <tr style=\"text-align: right;\">\n",
              "      <th></th>\n",
              "      <th>Name</th>\n",
              "      <th>Author</th>\n",
              "      <th>User Rating</th>\n",
              "      <th>Reviews</th>\n",
              "      <th>Price</th>\n",
              "      <th>Year</th>\n",
              "      <th>Genre</th>\n",
              "    </tr>\n",
              "  </thead>\n",
              "  <tbody>\n",
              "    <tr>\n",
              "      <th>0</th>\n",
              "      <td>10-Day Green Smoothie Cleanse</td>\n",
              "      <td>JJ Smith</td>\n",
              "      <td>4.7</td>\n",
              "      <td>17350</td>\n",
              "      <td>8</td>\n",
              "      <td>2016</td>\n",
              "      <td>Non Fiction</td>\n",
              "    </tr>\n",
              "    <tr>\n",
              "      <th>1</th>\n",
              "      <td>11/22/63: A Novel</td>\n",
              "      <td>Stephen King</td>\n",
              "      <td>4.6</td>\n",
              "      <td>2052</td>\n",
              "      <td>22</td>\n",
              "      <td>2011</td>\n",
              "      <td>Fiction</td>\n",
              "    </tr>\n",
              "    <tr>\n",
              "      <th>2</th>\n",
              "      <td>12 Rules for Life: An Antidote to Chaos</td>\n",
              "      <td>Jordan B. Peterson</td>\n",
              "      <td>4.7</td>\n",
              "      <td>18979</td>\n",
              "      <td>15</td>\n",
              "      <td>2018</td>\n",
              "      <td>Non Fiction</td>\n",
              "    </tr>\n",
              "    <tr>\n",
              "      <th>3</th>\n",
              "      <td>1984 (Signet Classics)</td>\n",
              "      <td>George Orwell</td>\n",
              "      <td>4.7</td>\n",
              "      <td>21424</td>\n",
              "      <td>6</td>\n",
              "      <td>2017</td>\n",
              "      <td>Fiction</td>\n",
              "    </tr>\n",
              "    <tr>\n",
              "      <th>4</th>\n",
              "      <td>5,000 Awesome Facts (About Everything!) (Natio...</td>\n",
              "      <td>National Geographic Kids</td>\n",
              "      <td>4.8</td>\n",
              "      <td>7665</td>\n",
              "      <td>12</td>\n",
              "      <td>2019</td>\n",
              "      <td>Non Fiction</td>\n",
              "    </tr>\n",
              "  </tbody>\n",
              "</table>\n",
              "</div>\n",
              "    <div class=\"colab-df-buttons\">\n",
              "\n",
              "  <div class=\"colab-df-container\">\n",
              "    <button class=\"colab-df-convert\" onclick=\"convertToInteractive('df-89753cee-edde-4d43-9fbc-fdbf4db13135')\"\n",
              "            title=\"Convert this dataframe to an interactive table.\"\n",
              "            style=\"display:none;\">\n",
              "\n",
              "  <svg xmlns=\"http://www.w3.org/2000/svg\" height=\"24px\" viewBox=\"0 -960 960 960\">\n",
              "    <path d=\"M120-120v-720h720v720H120Zm60-500h600v-160H180v160Zm220 220h160v-160H400v160Zm0 220h160v-160H400v160ZM180-400h160v-160H180v160Zm440 0h160v-160H620v160ZM180-180h160v-160H180v160Zm440 0h160v-160H620v160Z\"/>\n",
              "  </svg>\n",
              "    </button>\n",
              "\n",
              "  <style>\n",
              "    .colab-df-container {\n",
              "      display:flex;\n",
              "      gap: 12px;\n",
              "    }\n",
              "\n",
              "    .colab-df-convert {\n",
              "      background-color: #E8F0FE;\n",
              "      border: none;\n",
              "      border-radius: 50%;\n",
              "      cursor: pointer;\n",
              "      display: none;\n",
              "      fill: #1967D2;\n",
              "      height: 32px;\n",
              "      padding: 0 0 0 0;\n",
              "      width: 32px;\n",
              "    }\n",
              "\n",
              "    .colab-df-convert:hover {\n",
              "      background-color: #E2EBFA;\n",
              "      box-shadow: 0px 1px 2px rgba(60, 64, 67, 0.3), 0px 1px 3px 1px rgba(60, 64, 67, 0.15);\n",
              "      fill: #174EA6;\n",
              "    }\n",
              "\n",
              "    .colab-df-buttons div {\n",
              "      margin-bottom: 4px;\n",
              "    }\n",
              "\n",
              "    [theme=dark] .colab-df-convert {\n",
              "      background-color: #3B4455;\n",
              "      fill: #D2E3FC;\n",
              "    }\n",
              "\n",
              "    [theme=dark] .colab-df-convert:hover {\n",
              "      background-color: #434B5C;\n",
              "      box-shadow: 0px 1px 3px 1px rgba(0, 0, 0, 0.15);\n",
              "      filter: drop-shadow(0px 1px 2px rgba(0, 0, 0, 0.3));\n",
              "      fill: #FFFFFF;\n",
              "    }\n",
              "  </style>\n",
              "\n",
              "    <script>\n",
              "      const buttonEl =\n",
              "        document.querySelector('#df-89753cee-edde-4d43-9fbc-fdbf4db13135 button.colab-df-convert');\n",
              "      buttonEl.style.display =\n",
              "        google.colab.kernel.accessAllowed ? 'block' : 'none';\n",
              "\n",
              "      async function convertToInteractive(key) {\n",
              "        const element = document.querySelector('#df-89753cee-edde-4d43-9fbc-fdbf4db13135');\n",
              "        const dataTable =\n",
              "          await google.colab.kernel.invokeFunction('convertToInteractive',\n",
              "                                                    [key], {});\n",
              "        if (!dataTable) return;\n",
              "\n",
              "        const docLinkHtml = 'Like what you see? Visit the ' +\n",
              "          '<a target=\"_blank\" href=https://colab.research.google.com/notebooks/data_table.ipynb>data table notebook</a>'\n",
              "          + ' to learn more about interactive tables.';\n",
              "        element.innerHTML = '';\n",
              "        dataTable['output_type'] = 'display_data';\n",
              "        await google.colab.output.renderOutput(dataTable, element);\n",
              "        const docLink = document.createElement('div');\n",
              "        docLink.innerHTML = docLinkHtml;\n",
              "        element.appendChild(docLink);\n",
              "      }\n",
              "    </script>\n",
              "  </div>\n",
              "\n",
              "\n",
              "<div id=\"df-61949388-91ac-4896-b572-15bf3e18efc8\">\n",
              "  <button class=\"colab-df-quickchart\" onclick=\"quickchart('df-61949388-91ac-4896-b572-15bf3e18efc8')\"\n",
              "            title=\"Suggest charts\"\n",
              "            style=\"display:none;\">\n",
              "\n",
              "<svg xmlns=\"http://www.w3.org/2000/svg\" height=\"24px\"viewBox=\"0 0 24 24\"\n",
              "     width=\"24px\">\n",
              "    <g>\n",
              "        <path d=\"M19 3H5c-1.1 0-2 .9-2 2v14c0 1.1.9 2 2 2h14c1.1 0 2-.9 2-2V5c0-1.1-.9-2-2-2zM9 17H7v-7h2v7zm4 0h-2V7h2v10zm4 0h-2v-4h2v4z\"/>\n",
              "    </g>\n",
              "</svg>\n",
              "  </button>\n",
              "\n",
              "<style>\n",
              "  .colab-df-quickchart {\n",
              "      --bg-color: #E8F0FE;\n",
              "      --fill-color: #1967D2;\n",
              "      --hover-bg-color: #E2EBFA;\n",
              "      --hover-fill-color: #174EA6;\n",
              "      --disabled-fill-color: #AAA;\n",
              "      --disabled-bg-color: #DDD;\n",
              "  }\n",
              "\n",
              "  [theme=dark] .colab-df-quickchart {\n",
              "      --bg-color: #3B4455;\n",
              "      --fill-color: #D2E3FC;\n",
              "      --hover-bg-color: #434B5C;\n",
              "      --hover-fill-color: #FFFFFF;\n",
              "      --disabled-bg-color: #3B4455;\n",
              "      --disabled-fill-color: #666;\n",
              "  }\n",
              "\n",
              "  .colab-df-quickchart {\n",
              "    background-color: var(--bg-color);\n",
              "    border: none;\n",
              "    border-radius: 50%;\n",
              "    cursor: pointer;\n",
              "    display: none;\n",
              "    fill: var(--fill-color);\n",
              "    height: 32px;\n",
              "    padding: 0;\n",
              "    width: 32px;\n",
              "  }\n",
              "\n",
              "  .colab-df-quickchart:hover {\n",
              "    background-color: var(--hover-bg-color);\n",
              "    box-shadow: 0 1px 2px rgba(60, 64, 67, 0.3), 0 1px 3px 1px rgba(60, 64, 67, 0.15);\n",
              "    fill: var(--button-hover-fill-color);\n",
              "  }\n",
              "\n",
              "  .colab-df-quickchart-complete:disabled,\n",
              "  .colab-df-quickchart-complete:disabled:hover {\n",
              "    background-color: var(--disabled-bg-color);\n",
              "    fill: var(--disabled-fill-color);\n",
              "    box-shadow: none;\n",
              "  }\n",
              "\n",
              "  .colab-df-spinner {\n",
              "    border: 2px solid var(--fill-color);\n",
              "    border-color: transparent;\n",
              "    border-bottom-color: var(--fill-color);\n",
              "    animation:\n",
              "      spin 1s steps(1) infinite;\n",
              "  }\n",
              "\n",
              "  @keyframes spin {\n",
              "    0% {\n",
              "      border-color: transparent;\n",
              "      border-bottom-color: var(--fill-color);\n",
              "      border-left-color: var(--fill-color);\n",
              "    }\n",
              "    20% {\n",
              "      border-color: transparent;\n",
              "      border-left-color: var(--fill-color);\n",
              "      border-top-color: var(--fill-color);\n",
              "    }\n",
              "    30% {\n",
              "      border-color: transparent;\n",
              "      border-left-color: var(--fill-color);\n",
              "      border-top-color: var(--fill-color);\n",
              "      border-right-color: var(--fill-color);\n",
              "    }\n",
              "    40% {\n",
              "      border-color: transparent;\n",
              "      border-right-color: var(--fill-color);\n",
              "      border-top-color: var(--fill-color);\n",
              "    }\n",
              "    60% {\n",
              "      border-color: transparent;\n",
              "      border-right-color: var(--fill-color);\n",
              "    }\n",
              "    80% {\n",
              "      border-color: transparent;\n",
              "      border-right-color: var(--fill-color);\n",
              "      border-bottom-color: var(--fill-color);\n",
              "    }\n",
              "    90% {\n",
              "      border-color: transparent;\n",
              "      border-bottom-color: var(--fill-color);\n",
              "    }\n",
              "  }\n",
              "</style>\n",
              "\n",
              "  <script>\n",
              "    async function quickchart(key) {\n",
              "      const quickchartButtonEl =\n",
              "        document.querySelector('#' + key + ' button');\n",
              "      quickchartButtonEl.disabled = true;  // To prevent multiple clicks.\n",
              "      quickchartButtonEl.classList.add('colab-df-spinner');\n",
              "      try {\n",
              "        const charts = await google.colab.kernel.invokeFunction(\n",
              "            'suggestCharts', [key], {});\n",
              "      } catch (error) {\n",
              "        console.error('Error during call to suggestCharts:', error);\n",
              "      }\n",
              "      quickchartButtonEl.classList.remove('colab-df-spinner');\n",
              "      quickchartButtonEl.classList.add('colab-df-quickchart-complete');\n",
              "    }\n",
              "    (() => {\n",
              "      let quickchartButtonEl =\n",
              "        document.querySelector('#df-61949388-91ac-4896-b572-15bf3e18efc8 button');\n",
              "      quickchartButtonEl.style.display =\n",
              "        google.colab.kernel.accessAllowed ? 'block' : 'none';\n",
              "    })();\n",
              "  </script>\n",
              "</div>\n",
              "    </div>\n",
              "  </div>\n"
            ],
            "application/vnd.google.colaboratory.intrinsic+json": {
              "type": "dataframe",
              "variable_name": "df",
              "summary": "{\n  \"name\": \"df\",\n  \"rows\": 550,\n  \"fields\": [\n    {\n      \"column\": \"Name\",\n      \"properties\": {\n        \"dtype\": \"string\",\n        \"num_unique_values\": 351,\n        \"samples\": [\n          \"Life\",\n          \"Where the Crawdads Sing\",\n          \"Thinking, Fast and Slow\"\n        ],\n        \"semantic_type\": \"\",\n        \"description\": \"\"\n      }\n    },\n    {\n      \"column\": \"Author\",\n      \"properties\": {\n        \"dtype\": \"category\",\n        \"num_unique_values\": 248,\n        \"samples\": [\n          \"Jeff Kinney\",\n          \"Amor Towles\",\n          \"Stieg Larsson\"\n        ],\n        \"semantic_type\": \"\",\n        \"description\": \"\"\n      }\n    },\n    {\n      \"column\": \"User Rating\",\n      \"properties\": {\n        \"dtype\": \"number\",\n        \"std\": 0.2269803650251963,\n        \"min\": 3.3,\n        \"max\": 4.9,\n        \"num_unique_values\": 14,\n        \"samples\": [\n          3.8,\n          4.0,\n          4.7\n        ],\n        \"semantic_type\": \"\",\n        \"description\": \"\"\n      }\n    },\n    {\n      \"column\": \"Reviews\",\n      \"properties\": {\n        \"dtype\": \"number\",\n        \"std\": 11731,\n        \"min\": 37,\n        \"max\": 87841,\n        \"num_unique_values\": 346,\n        \"samples\": [\n          5972,\n          1884,\n          49288\n        ],\n        \"semantic_type\": \"\",\n        \"description\": \"\"\n      }\n    },\n    {\n      \"column\": \"Price\",\n      \"properties\": {\n        \"dtype\": \"number\",\n        \"std\": 10,\n        \"min\": 0,\n        \"max\": 105,\n        \"num_unique_values\": 40,\n        \"samples\": [\n          0,\n          24,\n          9\n        ],\n        \"semantic_type\": \"\",\n        \"description\": \"\"\n      }\n    },\n    {\n      \"column\": \"Year\",\n      \"properties\": {\n        \"dtype\": \"number\",\n        \"std\": 3,\n        \"min\": 2009,\n        \"max\": 2019,\n        \"num_unique_values\": 11,\n        \"samples\": [\n          2014,\n          2016,\n          2013\n        ],\n        \"semantic_type\": \"\",\n        \"description\": \"\"\n      }\n    },\n    {\n      \"column\": \"Genre\",\n      \"properties\": {\n        \"dtype\": \"category\",\n        \"num_unique_values\": 2,\n        \"samples\": [\n          \"Fiction\",\n          \"Non Fiction\"\n        ],\n        \"semantic_type\": \"\",\n        \"description\": \"\"\n      }\n    }\n  ]\n}"
            }
          },
          "metadata": {},
          "execution_count": 5
        }
      ],
      "source": [
        "from google.colab import files\n",
        "import pandas as pd\n",
        "import matplotlib.pyplot as plt\n",
        "import seaborn as sns\n",
        "\n",
        "uploaded = files.upload()\n",
        "\n",
        "file_name = list(uploaded.keys())[0]\n",
        "\n",
        "df = pd.read_csv(file_name)\n",
        "\n",
        "df.head()\n"
      ]
    },
    {
      "cell_type": "code",
      "source": [
        "dataset_shape = df.shape\n",
        "print(f\"Розмір датасету: {dataset_shape}\")\n",
        "\n",
        "\n",
        "books_count = dataset_shape[0]\n",
        "print(f\"Відповідь: Про {books_count} книг зберігає дані датасет.\")\n",
        "\n",
        "\n",
        "df.columns = ['name', 'author', 'user_rating', 'reviews', 'price', 'year', 'genre']\n"
      ],
      "metadata": {
        "colab": {
          "base_uri": "https://localhost:8080/"
        },
        "id": "SwLtC6jOfMVN",
        "outputId": "a839fb37-8836-46eb-91b5-083836f29d71"
      },
      "execution_count": null,
      "outputs": [
        {
          "output_type": "stream",
          "name": "stdout",
          "text": [
            "Розмір датасету: (550, 7)\n",
            "Відповідь: Про 550 книг зберігає дані датасет.\n"
          ]
        }
      ]
    },
    {
      "cell_type": "code",
      "source": [
        "missing_values = df.isna().sum()\n",
        "print(\"Кількість пропусків у кожному стовпці:\")\n",
        "print(missing_values)\n",
        "\n",
        "\n",
        "if missing_values.sum() == 0:\n",
        "    print(\"Відповідь: Ні\")\n",
        "else:\n",
        "    print(\"Відповідь: Так\")\n",
        "\n",
        "\n",
        "unique_genres = df['genre'].unique()\n",
        "print(f\"Унікальні жанри: {unique_genres}\")\n",
        "\n",
        "\n",
        "print(f\"Відповідь: {', '.join(unique_genres)}\")\n"
      ],
      "metadata": {
        "colab": {
          "base_uri": "https://localhost:8080/"
        },
        "id": "oyR4xaxPfOND",
        "outputId": "051b2805-0afd-4b5f-fb6d-638fbaaa4949"
      },
      "execution_count": null,
      "outputs": [
        {
          "output_type": "stream",
          "name": "stdout",
          "text": [
            "Кількість пропусків у кожному стовпці:\n",
            "name           0\n",
            "author         0\n",
            "user_rating    0\n",
            "reviews        0\n",
            "price          0\n",
            "year           0\n",
            "genre          0\n",
            "dtype: int64\n",
            "Відповідь: Ні\n",
            "Унікальні жанри: ['Non Fiction' 'Fiction']\n",
            "Відповідь: Non Fiction, Fiction\n"
          ]
        }
      ]
    },
    {
      "cell_type": "code",
      "source": [
        "plt.figure(figsize=(10, 6))\n",
        "plt.hist(df['price'], bins=20, color='skyblue', edgecolor='black')\n",
        "plt.title('Розподіл цін книг', fontsize=16)\n",
        "plt.xlabel('Ціна', fontsize=14)\n",
        "plt.ylabel('Кількість', fontsize=14)\n",
        "plt.grid(True)\n",
        "plt.show()\n"
      ],
      "metadata": {
        "colab": {
          "base_uri": "https://localhost:8080/",
          "height": 571
        },
        "id": "twwVcHEYfQqK",
        "outputId": "138692e6-122c-4cc7-c180-a432af585f9b"
      },
      "execution_count": null,
      "outputs": [
        {
          "output_type": "display_data",
          "data": {
            "text/plain": [
              "<Figure size 1000x600 with 1 Axes>"
            ],
            "image/png": "[encoded data removed]"
          },
          "metadata": {}
        }
      ]
    },
    {
      "cell_type": "code",
      "source": [
        "max_price = df['price'].max()\n",
        "min_price = df['price'].min()\n",
        "mean_price = df['price'].mean()\n",
        "median_price = df['price'].median()\n",
        "\n",
        "print(f\"Максимальна ціна: {max_price}\")\n",
        "print(f\"Мінімальна ціна: {min_price}\")\n",
        "print(f\"Середня ціна: {mean_price}\")\n",
        "print(f\"Медіанна ціна: {median_price}\")\n",
        "\n",
        "\n",
        "print(f\"Відповідь: Максимальна ціна: {max_price}\")\n",
        "print(f\"Відповідь: Мінімальна ціна: {min_price}\")\n",
        "print(f\"Відповідь: Середня ціна: {mean_price}\")\n",
        "print(f\"Відповідь: Медіанна ціна: {median_price}\")\n"
      ],
      "metadata": {
        "colab": {
          "base_uri": "https://localhost:8080/"
        },
        "id": "kI7yRrCRfUBF",
        "outputId": "275fa01e-364e-464d-f2c8-6f69aaacbdd6"
      },
      "execution_count": null,
      "outputs": [
        {
          "output_type": "stream",
          "name": "stdout",
          "text": [
            "Максимальна ціна: 105\n",
            "Мінімальна ціна: 0\n",
            "Середня ціна: 13.1\n",
            "Медіанна ціна: 11.0\n",
            "Відповідь: Максимальна ціна: 105\n",
            "Відповідь: Мінімальна ціна: 0\n",
            "Відповідь: Середня ціна: 13.1\n",
            "Відповідь: Медіанна ціна: 11.0\n"
          ]
        }
      ]
    },
    {
      "cell_type": "code",
      "source": [
        "max_rating = df['user_rating'].max()\n",
        "print(f\"Найвищий рейтинг: {max_rating}\")\n",
        "\n",
        "print(f\"Відповідь: {max_rating}\")\n",
        "\n",
        "books_with_max_rating = df[df['user_rating'] == max_rating].shape[0]\n",
        "print(f\"Кількість книг з найвищим рейтингом: {books_with_max_rating}\")\n",
        "\n",
        "print(f\"Відповідь: {books_with_max_rating}\")\n",
        "\n",
        "most_reviews_book = df.loc[df['reviews'].idxmax()]\n",
        "print(f\"Книга з найбільшою кількістю відгуків: {most_reviews_book['name']}\")\n",
        "\n",
        "print(f\"Відповідь: {most_reviews_book['name']}\")\n"
      ],
      "metadata": {
        "colab": {
          "base_uri": "https://localhost:8080/"
        },
        "id": "2JVOsizJfXe-",
        "outputId": "ad84fd19-a7a3-46c3-e4fc-564520f1530e"
      },
      "execution_count": null,
      "outputs": [
        {
          "output_type": "stream",
          "name": "stdout",
          "text": [
            "Найвищий рейтинг: 4.9\n",
            "Відповідь: 4.9\n",
            "Кількість книг з найвищим рейтингом: 52\n",
            "Відповідь: 52\n",
            "Книга з найбільшою кількістю відгуків: Where the Crawdads Sing\n",
            "Відповідь: Where the Crawdads Sing\n"
          ]
        }
      ]
    },
    {
      "cell_type": "code",
      "source": [
        "most_expensive_2015_book = df[(df['year'] == 2015)].sort_values('price', ascending=False).iloc[0]\n",
        "print(f\"Найдорожча книга 2015 року: {most_expensive_2015_book['name']}\")\n",
        "\n",
        "print(f\"Відповідь: {most_expensive_2015_book['name']}\")\n"
      ],
      "metadata": {
        "colab": {
          "base_uri": "https://localhost:8080/"
        },
        "id": "IhFFap0KfYd6",
        "outputId": "80cbb120-00b2-4a47-b33d-171e8efb5139"
      },
      "execution_count": null,
      "outputs": [
        {
          "output_type": "stream",
          "name": "stdout",
          "text": [
            "Найдорожча книга 2015 року: Publication Manual of the American Psychological Association, 6th Edition\n",
            "Відповідь: Publication Manual of the American Psychological Association, 6th Edition\n"
          ]
        }
      ]
    },
    {
      "cell_type": "code",
      "source": [
        "books_per_year = df.groupby('year').size()\n",
        "\n",
        "plt.figure(figsize=(10, 6))\n",
        "plt.plot(books_per_year.index, books_per_year.values, marker='o', color='green', linestyle='--')\n",
        "plt.title('Кількість книг за роками', fontsize=16)\n",
        "plt.xlabel('Рік', fontsize=14)\n",
        "plt.ylabel('Кількість книг', fontsize=14)\n",
        "plt.grid(True)\n",
        "plt.show()\n"
      ],
      "metadata": {
        "colab": {
          "base_uri": "https://localhost:8080/",
          "height": 571
        },
        "id": "w1GcE0gGfauO",
        "outputId": "da20195d-74a3-480d-f2e2-bbd6e3860a59"
      },
      "execution_count": null,
      "outputs": [
        {
          "output_type": "display_data",
          "data": {
            "text/plain": [
              "<Figure size 1000x600 with 1 Axes>"
            ],
            "image/png": "[encoded data removed]"
          },
          "metadata": {}
        }
      ]
    },
    {
      "cell_type": "code",
      "source": [
        "plt.figure(figsize=(10, 6))\n",
        "sns.boxplot(x='genre', y='price', data=df, palette='Set2')\n",
        "plt.title('Розподіл цін книг за жанрами', fontsize=16)\n",
        "plt.xlabel('Жанр', fontsize=14)\n",
        "plt.ylabel('Ціна', fontsize=14)\n",
        "plt.show()\n"
      ],
      "metadata": {
        "colab": {
          "base_uri": "https://localhost:8080/",
          "height": 658
        },
        "id": "sYX2h4DIfc-T",
        "outputId": "e26a2b9d-f78d-45b6-8c92-6728e48038a5"
      },
      "execution_count": null,
      "outputs": [
        {
          "output_type": "stream",
          "name": "stderr",
          "text": [
            "<ipython-input-13-61ad2b4604a8>:3: FutureWarning: \n",
            "\n",
            "Passing `palette` without assigning `hue` is deprecated and will be removed in v0.14.0. Assign the `x` variable to `hue` and set `legend=False` for the same effect.\n",
            "\n",
            "  sns.boxplot(x='genre', y='price', data=df, palette='Set2')\n"
          ]
        },
        {
          "output_type": "display_data",
          "data": {
            "text/plain": [
              "<Figure size 1000x600 with 1 Axes>"
            ],
            "image/png": "[encoded data removed]"
          },
          "metadata": {}
        }
      ]
    },
    {
      "cell_type": "code",
      "source": [
        "fiction_books_2010 = df[(df['year'] == 2010) & (df['genre'] == 'Fiction')].shape[0]\n",
        "print(f\"Кількість книг жанру Fiction у 2010 році: {fiction_books_2010}\")\n",
        "\n",
        "print(f\"Відповідь: {fiction_books_2010}\")\n",
        "\n",
        "books_with_4_9_rating = df[(df['user_rating'] == 4.9) & (df['year'].isin([2010, 2011]))].shape[0]\n",
        "print(f\"Кількість книг з рейтингом 4.9 у 2010 та 2011 роках: {books_with_4_9_rating}\")\n",
        "\n",
        "print(f\"Відповідь: {books_with_4_9_rating}\")\n"
      ],
      "metadata": {
        "colab": {
          "base_uri": "https://localhost:8080/"
        },
        "id": "DUcS4JeZfeZf",
        "outputId": "0ef33152-b642-468e-eee6-dac69c7b0959"
      },
      "execution_count": null,
      "outputs": [
        {
          "output_type": "stream",
          "name": "stdout",
          "text": [
            "Кількість книг жанру Fiction у 2010 році: 20\n",
            "Відповідь: 20\n",
            "Кількість книг з рейтингом 4.9 у 2010 та 2011 роках: 1\n",
            "Відповідь: 1\n"
          ]
        }
      ]
    },
    {
      "cell_type": "code",
      "source": [
        "sorted_books_2015_under_8 = df[(df['year'] == 2015) & (df['price'] < 8)].sort_values('price')\n",
        "last_sorted_book = sorted_books_2015_under_8.iloc[-1]['name']\n",
        "print(f\"Остання книга у відсортованому списку: {last_sorted_book}\")\n",
        "\n",
        "print(f\"Відповідь: {last_sorted_book}\")\n"
      ],
      "metadata": {
        "colab": {
          "base_uri": "https://localhost:8080/"
        },
        "id": "hKl6Qk7Tffrf",
        "outputId": "2e15b76b-8f44-4683-f79d-3464258f2b9e"
      },
      "execution_count": null,
      "outputs": [
        {
          "output_type": "stream",
          "name": "stdout",
          "text": [
            "Остання книга у відсортованому списку: Old School (Diary of a Wimpy Kid #10)\n",
            "Відповідь: Old School (Diary of a Wimpy Kid #10)\n"
          ]
        }
      ]
    },
    {
      "cell_type": "code",
      "source": [
        "genre_price_stats = df.groupby('genre')['price'].agg(['max', 'min'])\n",
        "print(genre_price_stats)\n",
        "\n",
        "print(genre_price_stats)\n"
      ],
      "metadata": {
        "colab": {
          "base_uri": "https://localhost:8080/"
        },
        "id": "3oupqclbfhs9",
        "outputId": "024e9669-4e41-4daa-ef7f-1b65a20e80e0"
      },
      "execution_count": null,
      "outputs": [
        {
          "output_type": "stream",
          "name": "stdout",
          "text": [
            "             max  min\n",
            "genre                \n",
            "Fiction       82    0\n",
            "Non Fiction  105    0\n",
            "             max  min\n",
            "genre                \n",
            "Fiction       82    0\n",
            "Non Fiction  105    0\n"
          ]
        }
      ]
    },
    {
      "cell_type": "code",
      "source": [
        "books_per_author = df.groupby('author').agg({'name': 'count'}).rename(columns={'name': 'book_count'})\n",
        "print(f\"Розмір таблиці: {books_per_author.shape}\")\n",
        "\n",
        "print(f\"Відповідь: {books_per_author.shape}\")\n",
        "\n",
        "top_author = books_per_author['book_count'].idxmax()\n",
        "top_author_books = books_per_author['book_count'].max()\n",
        "print(f\"Автор з найбільшою кількістю книг: {top_author}\")\n",
        "print(f\"Кількість книг цього автора: {top_author_books}\")\n",
        "\n",
        "print(f\"Відповідь: {top_author}\")\n",
        "\n",
        "print(f\"Відповідь: {top_author_books}\")\n"
      ],
      "metadata": {
        "colab": {
          "base_uri": "https://localhost:8080/"
        },
        "id": "kzYrB3Rjfjfd",
        "outputId": "5b51cbdb-52ec-43df-8afe-8b24fa302f60"
      },
      "execution_count": null,
      "outputs": [
        {
          "output_type": "stream",
          "name": "stdout",
          "text": [
            "Розмір таблиці: (248, 1)\n",
            "Відповідь: (248, 1)\n",
            "Автор з найбільшою кількістю книг: Jeff Kinney\n",
            "Кількість книг цього автора: 12\n",
            "Відповідь: Jeff Kinney\n",
            "Відповідь: 12\n"
          ]
        }
      ]
    },
    {
      "cell_type": "code",
      "source": [
        "avg_rating_per_author = df.groupby('author')['user_rating'].agg(['mean']).rename(columns={'mean': 'avg_rating'})\n",
        "print(avg_rating_per_author)\n",
        "\n",
        "min_avg_rating_author = avg_rating_per_author['avg_rating'].idxmin()\n",
        "min_avg_rating = avg_rating_per_author['avg_rating'].min()\n",
        "print(f\"Автор з мінімальним середнім рейтингом: {min_avg_rating_author}\")\n",
        "print(f\"Середній рейтинг цього автора: {min_avg_rating}\")\n",
        "\n",
        "print(f\"Відповідь: {min_avg_rating_author}\")\n",
        "\n",
        "print(f\"Відповідь: {min_avg_rating}\")\n",
        "\n",
        "final_df = pd.concat([books_per_author, avg_rating_per_author], axis=1)\n",
        "\n",
        "sorted_final_df = final_df.sort_values(by=['book_count', 'avg_rating'])\n",
        "\n",
        "first_author = sorted_final_df.iloc[0].name\n",
        "print(f\"Перший автор у списку після сортування: {first_author}\")\n",
        "\n",
        "print(f\"Відповідь: {first_author}\")\n"
      ],
      "metadata": {
        "colab": {
          "base_uri": "https://localhost:8080/"
        },
        "id": "LcWinsQDflKp",
        "outputId": "19a1f139-ca19-4465-9392-4b64ac4a8f07"
      },
      "execution_count": null,
      "outputs": [
        {
          "output_type": "stream",
          "name": "stdout",
          "text": [
            "                            avg_rating\n",
            "author                                \n",
            "Abraham Verghese              4.600000\n",
            "Adam Gasiewski                4.400000\n",
            "Adam Mansbach                 4.800000\n",
            "Adir Levy                     4.800000\n",
            "Admiral William H. McRaven    4.700000\n",
            "...                                ...\n",
            "Walter Isaacson               4.566667\n",
            "William Davis                 4.400000\n",
            "William P. Young              4.600000\n",
            "Wizards RPG Team              4.800000\n",
            "Zhi Gang Sha                  4.600000\n",
            "\n",
            "[248 rows x 1 columns]\n",
            "Автор з мінімальним середнім рейтингом: Donna Tartt\n",
            "Середній рейтинг цього автора: 3.9\n",
            "Відповідь: Donna Tartt\n",
            "Відповідь: 3.9\n",
            "Перший автор у списку після сортування: Muriel Barbery\n",
            "Відповідь: Muriel Barbery\n"
          ]
        }
      ]
    }
  ]
}