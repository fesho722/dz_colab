{
  "nbformat": 4,
  "nbformat_minor": 0,
  "metadata": {
    "colab": {
      "provenance": []
    },
    "kernelspec": {
      "name": "python3",
      "display_name": "Python 3"
    },
    "language_info": {
      "name": "python"
    }
  },
  "cells": [
    {
      "cell_type": "code",
      "execution_count": null,
      "metadata": {
        "id": "dxxIrsjuSbas"
      },
      "outputs": [],
      "source": [
        "from google.colab import drive\n",
        "drive.mount('/content/drive')"
      ]
    },
    {
      "cell_type": "code",
      "source": [
        "!pip install --upgrade gspread\n",
        "\n",
        "import gspread\n",
        "from oauth2client.service_account import ServiceAccountCredentials\n",
        "import pandas as pd\n",
        "import matplotlib.pyplot as plt\n",
        "import seaborn as sns"
      ],
      "metadata": {
        "id": "NkenDltHTQ-x"
      },
      "execution_count": null,
      "outputs": []
    },
    {
      "cell_type": "code",
      "source": [
        "scope = [\"https://spreadsheets.google.com/feeds\", \"https://www.googleapis.com/auth/drive\"]\n",
        "creds = ServiceAccountCredentials.from_json_keyfile_name('/content/drive/My Drive/credentials.json', scope)\n",
        "client = gspread.authorize(creds)\n",
        "\n",
        "spreadsheet = client.open_by_url(\"https://docs.google.com/spreadsheets/d/1v625jAYEpZNoBtZSUhEcjsd-7SdqRlna_ZkbXf-UPCs/edit?gid=389550033\")\n",
        "sheet = spreadsheet.get_worksheet(0)\n",
        "\n",
        "data = pd.DataFrame(sheet.get_all_records())"
      ],
      "metadata": {
        "id": "j0b_efO-TSF1"
      },
      "execution_count": null,
      "outputs": []
    },
    {
      "cell_type": "code",
      "source": [
        "data.head()\n",
        "data.dtypes\n",
        "data.isnull().sum() / len(data)"
      ],
      "metadata": {
        "id": "z8i8woGKTTeq"
      },
      "execution_count": null,
      "outputs": []
    },
    {
      "cell_type": "code",
      "source": [
        "subset_columns = [col for col in data.columns if col != \"Мова програмування\"]\n",
        "print(\"Список колонок для видалення пропусків:\", subset_columns)\n",
        "\n",
        "data_cleaned = data.dropna(axis=1, how='any')\n",
        "\n",
        "if \"Мова програмування\" in data_cleaned.columns:\n",
        "    print(\"Колонка 'Мова програмування' залишилася\")\n",
        "else:\n",
        "    print(\"Колонка 'Мова програмування' була видалена\")\n",
        "\n",
        "data_cleaned.isnull().sum() / len(data_cleaned)\n",
        "data_cleaned.dropna(inplace=True)\n",
        "data_cleaned.shape"
      ],
      "metadata": {
        "id": "Tg8nqnYOTVZl"
      },
      "execution_count": null,
      "outputs": []
    },
    {
      "cell_type": "code",
      "source": [
        "python_data = data_cleaned[data_cleaned['Мова програмування'].str.contains(\"Python\", na=False)]\n",
        "python_data.shape"
      ],
      "metadata": {
        "id": "CwXEYXNPTWw8"
      },
      "execution_count": null,
      "outputs": []
    },
    {
      "cell_type": "code",
      "source": [
        "grouped_data = python_data.groupby(\"Посада\")\n",
        "\n",
        "print(\"Доступні колонки до групування:\", data.columns)\n",
        "\n",
        "grouped_data = data.groupby(\"Посада\")"
      ],
      "metadata": {
        "id": "-lXx8Z5STYoZ"
      },
      "execution_count": null,
      "outputs": []
    },
    {
      "cell_type": "code",
      "source": [
        "salary_column = [col for col in data.columns if \"Зарплата\" in col]\n",
        "print(\"Знайдена колонка для зарплати:\", salary_column)\n",
        "\n",
        "if salary_column:\n",
        "    salary_stats = grouped_data[salary_column[0]].agg(['min', 'max']).reset_index()\n",
        "    print(salary_stats)\n",
        "else:\n",
        "    print(\"Колонка з зарплатою не знайдена\")"
      ],
      "metadata": {
        "id": "8ON0NdKDTs8S"
      },
      "execution_count": null,
      "outputs": []
    },
    {
      "cell_type": "code",
      "source": [
        "def fill_avg_salary(row):\n",
        "    return (row['min'] + row['max']) / 2\n",
        "\n",
        "salary_stats['avg'] = salary_stats.apply(fill_avg_salary, axis=1)\n",
        "salary_stats['avg'].describe()\n",
        "salary_stats.to_csv('salary_stats.csv', index=False)"
      ],
      "metadata": {
        "id": "6iGl_VBDTykD"
      },
      "execution_count": null,
      "outputs": []
    },
    {
      "cell_type": "code",
      "source": [
        "position_counts = python_data['Посада'].value_counts()\n",
        "plt.figure(figsize=(8, 8))\n",
        "plt.pie(position_counts, labels=position_counts.index, autopct='%1.1f%%', startangle=140)\n",
        "plt.title('Розподіл посад серед Python розробників')\n",
        "plt.show()"
      ],
      "metadata": {
        "id": "CY34dljtT0i7"
      },
      "execution_count": null,
      "outputs": []
    },
    {
      "cell_type": "code",
      "source": [
        "plt.figure(figsize=(10, 6))\n",
        "sns.scatterplot(data=salary_stats, x='min', y='max', hue='Посада', palette='viridis', s=100)\n",
        "plt.title('Скаттер-плот для мінімальної та максимальної зарплат')\n",
        "plt.xlabel('Мінімальна зарплата')\n",
        "plt.ylabel('Максимальна зарплата')\n",
        "plt.show()"
      ],
      "metadata": {
        "id": "s6kfJuWmT3Vn"
      },
      "execution_count": null,
      "outputs": []
    },
    {
      "cell_type": "code",
      "source": [
        "plt.figure(figsize=(10, 6))\n",
        "sns.barplot(x=position_counts.index, y=position_counts.values, palette='magma')\n",
        "plt.title('Кількість розробників Python за посадою')\n",
        "plt.xlabel('Посада')\n",
        "plt.ylabel('Кількість розробників')\n",
        "plt.xticks(rotation=45, ha='right')\n",
        "plt.show()"
      ],
      "metadata": {
        "id": "QBXgNgqhT4yi"
      },
      "execution_count": null,
      "outputs": []
    }
  ]
}